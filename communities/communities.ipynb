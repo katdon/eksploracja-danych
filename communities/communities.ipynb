{
 "cells": [
  {
   "cell_type": "markdown",
   "metadata": {},
   "source": [
    "# Communities and Crime Data Set"
   ]
  },
  {
   "cell_type": "code",
   "execution_count": 3,
   "metadata": {},
   "outputs": [],
   "source": [
    "import pandas as pd\n",
    "import numpy as np"
   ]
  },
  {
   "cell_type": "markdown",
   "metadata": {},
   "source": [
    "## Wczytywanie danych"
   ]
  },
  {
   "cell_type": "code",
   "execution_count": 4,
   "metadata": {},
   "outputs": [],
   "source": [
    "names = !cat './dataset/communities.names' | awk 'NR>=76 && NR<=203 { print $2 }' # nazwy kolumn"
   ]
  },
  {
   "cell_type": "code",
   "execution_count": 5,
   "metadata": {},
   "outputs": [],
   "source": [
    "input_data = pd.read_csv('dataset/communities.data', header=None, names=names)"
   ]
  },
  {
   "cell_type": "code",
   "execution_count": 17,
   "metadata": {},
   "outputs": [
    {
     "data": {
      "text/plain": [
       "1994"
      ]
     },
     "execution_count": 17,
     "metadata": {},
     "output_type": "execute_result"
    }
   ],
   "source": [
    "len(input_data) # liczba wierszy"
   ]
  },
  {
   "cell_type": "code",
   "execution_count": 18,
   "metadata": {},
   "outputs": [
    {
     "data": {
      "text/plain": [
       "(1994, 128)"
      ]
     },
     "execution_count": 18,
     "metadata": {},
     "output_type": "execute_result"
    }
   ],
   "source": [
    "input_data.shape # liczba wierszy oraz kolumn"
   ]
  },
  {
   "cell_type": "markdown",
   "metadata": {},
   "source": [
    "## Przeglądanie danych"
   ]
  },
  {
   "cell_type": "code",
   "execution_count": 7,
   "metadata": {},
   "outputs": [
    {
     "data": {
      "text/html": [
       "<div>\n",
       "<style scoped>\n",
       "    .dataframe tbody tr th:only-of-type {\n",
       "        vertical-align: middle;\n",
       "    }\n",
       "\n",
       "    .dataframe tbody tr th {\n",
       "        vertical-align: top;\n",
       "    }\n",
       "\n",
       "    .dataframe thead th {\n",
       "        text-align: right;\n",
       "    }\n",
       "</style>\n",
       "<table border=\"1\" class=\"dataframe\">\n",
       "  <thead>\n",
       "    <tr style=\"text-align: right;\">\n",
       "      <th></th>\n",
       "      <th>state</th>\n",
       "      <th>county</th>\n",
       "      <th>community</th>\n",
       "      <th>communityname</th>\n",
       "      <th>fold</th>\n",
       "      <th>population</th>\n",
       "      <th>householdsize</th>\n",
       "      <th>racepctblack</th>\n",
       "      <th>racePctWhite</th>\n",
       "      <th>racePctAsian</th>\n",
       "      <th>...</th>\n",
       "      <th>LandArea</th>\n",
       "      <th>PopDens</th>\n",
       "      <th>PctUsePubTrans</th>\n",
       "      <th>PolicCars</th>\n",
       "      <th>PolicOperBudg</th>\n",
       "      <th>LemasPctPolicOnPatr</th>\n",
       "      <th>LemasGangUnitDeploy</th>\n",
       "      <th>LemasPctOfficDrugUn</th>\n",
       "      <th>PolicBudgPerPop</th>\n",
       "      <th>ViolentCrimesPerPop</th>\n",
       "    </tr>\n",
       "  </thead>\n",
       "  <tbody>\n",
       "    <tr>\n",
       "      <th>1989</th>\n",
       "      <td>12</td>\n",
       "      <td>?</td>\n",
       "      <td>?</td>\n",
       "      <td>TempleTerracecity</td>\n",
       "      <td>10</td>\n",
       "      <td>0.01</td>\n",
       "      <td>0.40</td>\n",
       "      <td>0.10</td>\n",
       "      <td>0.87</td>\n",
       "      <td>0.12</td>\n",
       "      <td>...</td>\n",
       "      <td>0.01</td>\n",
       "      <td>0.28</td>\n",
       "      <td>0.05</td>\n",
       "      <td>?</td>\n",
       "      <td>?</td>\n",
       "      <td>?</td>\n",
       "      <td>?</td>\n",
       "      <td>0.00</td>\n",
       "      <td>?</td>\n",
       "      <td>0.09</td>\n",
       "    </tr>\n",
       "    <tr>\n",
       "      <th>1990</th>\n",
       "      <td>6</td>\n",
       "      <td>?</td>\n",
       "      <td>?</td>\n",
       "      <td>Seasidecity</td>\n",
       "      <td>10</td>\n",
       "      <td>0.05</td>\n",
       "      <td>0.96</td>\n",
       "      <td>0.46</td>\n",
       "      <td>0.28</td>\n",
       "      <td>0.83</td>\n",
       "      <td>...</td>\n",
       "      <td>0.02</td>\n",
       "      <td>0.37</td>\n",
       "      <td>0.20</td>\n",
       "      <td>?</td>\n",
       "      <td>?</td>\n",
       "      <td>?</td>\n",
       "      <td>?</td>\n",
       "      <td>0.00</td>\n",
       "      <td>?</td>\n",
       "      <td>0.45</td>\n",
       "    </tr>\n",
       "    <tr>\n",
       "      <th>1991</th>\n",
       "      <td>9</td>\n",
       "      <td>9</td>\n",
       "      <td>80070</td>\n",
       "      <td>Waterburytown</td>\n",
       "      <td>10</td>\n",
       "      <td>0.16</td>\n",
       "      <td>0.37</td>\n",
       "      <td>0.25</td>\n",
       "      <td>0.69</td>\n",
       "      <td>0.04</td>\n",
       "      <td>...</td>\n",
       "      <td>0.08</td>\n",
       "      <td>0.32</td>\n",
       "      <td>0.18</td>\n",
       "      <td>0.08</td>\n",
       "      <td>0.06</td>\n",
       "      <td>0.78</td>\n",
       "      <td>0</td>\n",
       "      <td>0.91</td>\n",
       "      <td>0.28</td>\n",
       "      <td>0.23</td>\n",
       "    </tr>\n",
       "    <tr>\n",
       "      <th>1992</th>\n",
       "      <td>25</td>\n",
       "      <td>17</td>\n",
       "      <td>72600</td>\n",
       "      <td>Walthamcity</td>\n",
       "      <td>10</td>\n",
       "      <td>0.08</td>\n",
       "      <td>0.51</td>\n",
       "      <td>0.06</td>\n",
       "      <td>0.87</td>\n",
       "      <td>0.22</td>\n",
       "      <td>...</td>\n",
       "      <td>0.03</td>\n",
       "      <td>0.38</td>\n",
       "      <td>0.33</td>\n",
       "      <td>0.02</td>\n",
       "      <td>0.02</td>\n",
       "      <td>0.79</td>\n",
       "      <td>0</td>\n",
       "      <td>0.22</td>\n",
       "      <td>0.18</td>\n",
       "      <td>0.19</td>\n",
       "    </tr>\n",
       "    <tr>\n",
       "      <th>1993</th>\n",
       "      <td>6</td>\n",
       "      <td>?</td>\n",
       "      <td>?</td>\n",
       "      <td>Ontariocity</td>\n",
       "      <td>10</td>\n",
       "      <td>0.20</td>\n",
       "      <td>0.78</td>\n",
       "      <td>0.14</td>\n",
       "      <td>0.46</td>\n",
       "      <td>0.24</td>\n",
       "      <td>...</td>\n",
       "      <td>0.11</td>\n",
       "      <td>0.30</td>\n",
       "      <td>0.05</td>\n",
       "      <td>0.08</td>\n",
       "      <td>0.04</td>\n",
       "      <td>0.73</td>\n",
       "      <td>0.5</td>\n",
       "      <td>1.00</td>\n",
       "      <td>0.13</td>\n",
       "      <td>0.48</td>\n",
       "    </tr>\n",
       "  </tbody>\n",
       "</table>\n",
       "<p>5 rows × 128 columns</p>\n",
       "</div>"
      ],
      "text/plain": [
       "      state county community      communityname  fold  population  \\\n",
       "1989     12      ?         ?  TempleTerracecity    10        0.01   \n",
       "1990      6      ?         ?        Seasidecity    10        0.05   \n",
       "1991      9      9     80070      Waterburytown    10        0.16   \n",
       "1992     25     17     72600        Walthamcity    10        0.08   \n",
       "1993      6      ?         ?        Ontariocity    10        0.20   \n",
       "\n",
       "      householdsize  racepctblack  racePctWhite  racePctAsian  ...  LandArea  \\\n",
       "1989           0.40          0.10          0.87          0.12  ...      0.01   \n",
       "1990           0.96          0.46          0.28          0.83  ...      0.02   \n",
       "1991           0.37          0.25          0.69          0.04  ...      0.08   \n",
       "1992           0.51          0.06          0.87          0.22  ...      0.03   \n",
       "1993           0.78          0.14          0.46          0.24  ...      0.11   \n",
       "\n",
       "      PopDens  PctUsePubTrans  PolicCars  PolicOperBudg  LemasPctPolicOnPatr  \\\n",
       "1989     0.28            0.05          ?              ?                    ?   \n",
       "1990     0.37            0.20          ?              ?                    ?   \n",
       "1991     0.32            0.18       0.08           0.06                 0.78   \n",
       "1992     0.38            0.33       0.02           0.02                 0.79   \n",
       "1993     0.30            0.05       0.08           0.04                 0.73   \n",
       "\n",
       "      LemasGangUnitDeploy  LemasPctOfficDrugUn  PolicBudgPerPop  \\\n",
       "1989                    ?                 0.00                ?   \n",
       "1990                    ?                 0.00                ?   \n",
       "1991                    0                 0.91             0.28   \n",
       "1992                    0                 0.22             0.18   \n",
       "1993                  0.5                 1.00             0.13   \n",
       "\n",
       "      ViolentCrimesPerPop  \n",
       "1989                 0.09  \n",
       "1990                 0.45  \n",
       "1991                 0.23  \n",
       "1992                 0.19  \n",
       "1993                 0.48  \n",
       "\n",
       "[5 rows x 128 columns]"
      ]
     },
     "execution_count": 7,
     "metadata": {},
     "output_type": "execute_result"
    }
   ],
   "source": [
    "input_data.tail() # oglądamy wstępnie dane"
   ]
  },
  {
   "cell_type": "code",
   "execution_count": 89,
   "metadata": {},
   "outputs": [
    {
     "name": "stdout",
     "output_type": "stream",
     "text": [
      "<class 'pandas.core.frame.DataFrame'>\n",
      "RangeIndex: 1994 entries, 0 to 1993\n",
      "Columns: 128 entries, state to ViolentCrimesPerPop\n",
      "dtypes: float64(100), int64(2), object(26)\n",
      "memory usage: 1.9+ MB\n"
     ]
    }
   ],
   "source": [
    "df.info()"
   ]
  },
  {
   "cell_type": "code",
   "execution_count": 20,
   "metadata": {},
   "outputs": [
    {
     "data": {
      "text/html": [
       "<div>\n",
       "<style scoped>\n",
       "    .dataframe tbody tr th:only-of-type {\n",
       "        vertical-align: middle;\n",
       "    }\n",
       "\n",
       "    .dataframe tbody tr th {\n",
       "        vertical-align: top;\n",
       "    }\n",
       "\n",
       "    .dataframe thead th {\n",
       "        text-align: right;\n",
       "    }\n",
       "</style>\n",
       "<table border=\"1\" class=\"dataframe\">\n",
       "  <thead>\n",
       "    <tr style=\"text-align: right;\">\n",
       "      <th></th>\n",
       "      <th>state</th>\n",
       "      <th>fold</th>\n",
       "      <th>population</th>\n",
       "      <th>householdsize</th>\n",
       "      <th>racepctblack</th>\n",
       "      <th>racePctWhite</th>\n",
       "      <th>racePctAsian</th>\n",
       "      <th>racePctHisp</th>\n",
       "      <th>agePct12t21</th>\n",
       "      <th>agePct12t29</th>\n",
       "      <th>...</th>\n",
       "      <th>PctForeignBorn</th>\n",
       "      <th>PctBornSameState</th>\n",
       "      <th>PctSameHouse85</th>\n",
       "      <th>PctSameCity85</th>\n",
       "      <th>PctSameState85</th>\n",
       "      <th>LandArea</th>\n",
       "      <th>PopDens</th>\n",
       "      <th>PctUsePubTrans</th>\n",
       "      <th>LemasPctOfficDrugUn</th>\n",
       "      <th>ViolentCrimesPerPop</th>\n",
       "    </tr>\n",
       "  </thead>\n",
       "  <tbody>\n",
       "    <tr>\n",
       "      <th>count</th>\n",
       "      <td>1994.000000</td>\n",
       "      <td>1994.000000</td>\n",
       "      <td>1994.000000</td>\n",
       "      <td>1994.000000</td>\n",
       "      <td>1994.000000</td>\n",
       "      <td>1994.000000</td>\n",
       "      <td>1994.000000</td>\n",
       "      <td>1994.000000</td>\n",
       "      <td>1994.000000</td>\n",
       "      <td>1994.000000</td>\n",
       "      <td>...</td>\n",
       "      <td>1994.000000</td>\n",
       "      <td>1994.000000</td>\n",
       "      <td>1994.000000</td>\n",
       "      <td>1994.000000</td>\n",
       "      <td>1994.000000</td>\n",
       "      <td>1994.000000</td>\n",
       "      <td>1994.000000</td>\n",
       "      <td>1994.000000</td>\n",
       "      <td>1994.000000</td>\n",
       "      <td>1994.000000</td>\n",
       "    </tr>\n",
       "    <tr>\n",
       "      <th>mean</th>\n",
       "      <td>28.683551</td>\n",
       "      <td>5.493982</td>\n",
       "      <td>0.057593</td>\n",
       "      <td>0.463395</td>\n",
       "      <td>0.179629</td>\n",
       "      <td>0.753716</td>\n",
       "      <td>0.153681</td>\n",
       "      <td>0.144022</td>\n",
       "      <td>0.424218</td>\n",
       "      <td>0.493867</td>\n",
       "      <td>...</td>\n",
       "      <td>0.215552</td>\n",
       "      <td>0.608892</td>\n",
       "      <td>0.535050</td>\n",
       "      <td>0.626424</td>\n",
       "      <td>0.651530</td>\n",
       "      <td>0.065231</td>\n",
       "      <td>0.232854</td>\n",
       "      <td>0.161685</td>\n",
       "      <td>0.094052</td>\n",
       "      <td>0.237979</td>\n",
       "    </tr>\n",
       "    <tr>\n",
       "      <th>std</th>\n",
       "      <td>16.397553</td>\n",
       "      <td>2.873694</td>\n",
       "      <td>0.126906</td>\n",
       "      <td>0.163717</td>\n",
       "      <td>0.253442</td>\n",
       "      <td>0.244039</td>\n",
       "      <td>0.208877</td>\n",
       "      <td>0.232492</td>\n",
       "      <td>0.155196</td>\n",
       "      <td>0.143564</td>\n",
       "      <td>...</td>\n",
       "      <td>0.231134</td>\n",
       "      <td>0.204329</td>\n",
       "      <td>0.181352</td>\n",
       "      <td>0.200521</td>\n",
       "      <td>0.198221</td>\n",
       "      <td>0.109459</td>\n",
       "      <td>0.203092</td>\n",
       "      <td>0.229055</td>\n",
       "      <td>0.240328</td>\n",
       "      <td>0.232985</td>\n",
       "    </tr>\n",
       "    <tr>\n",
       "      <th>min</th>\n",
       "      <td>1.000000</td>\n",
       "      <td>1.000000</td>\n",
       "      <td>0.000000</td>\n",
       "      <td>0.000000</td>\n",
       "      <td>0.000000</td>\n",
       "      <td>0.000000</td>\n",
       "      <td>0.000000</td>\n",
       "      <td>0.000000</td>\n",
       "      <td>0.000000</td>\n",
       "      <td>0.000000</td>\n",
       "      <td>...</td>\n",
       "      <td>0.000000</td>\n",
       "      <td>0.000000</td>\n",
       "      <td>0.000000</td>\n",
       "      <td>0.000000</td>\n",
       "      <td>0.000000</td>\n",
       "      <td>0.000000</td>\n",
       "      <td>0.000000</td>\n",
       "      <td>0.000000</td>\n",
       "      <td>0.000000</td>\n",
       "      <td>0.000000</td>\n",
       "    </tr>\n",
       "    <tr>\n",
       "      <th>25%</th>\n",
       "      <td>12.000000</td>\n",
       "      <td>3.000000</td>\n",
       "      <td>0.010000</td>\n",
       "      <td>0.350000</td>\n",
       "      <td>0.020000</td>\n",
       "      <td>0.630000</td>\n",
       "      <td>0.040000</td>\n",
       "      <td>0.010000</td>\n",
       "      <td>0.340000</td>\n",
       "      <td>0.410000</td>\n",
       "      <td>...</td>\n",
       "      <td>0.060000</td>\n",
       "      <td>0.470000</td>\n",
       "      <td>0.420000</td>\n",
       "      <td>0.520000</td>\n",
       "      <td>0.560000</td>\n",
       "      <td>0.020000</td>\n",
       "      <td>0.100000</td>\n",
       "      <td>0.020000</td>\n",
       "      <td>0.000000</td>\n",
       "      <td>0.070000</td>\n",
       "    </tr>\n",
       "    <tr>\n",
       "      <th>50%</th>\n",
       "      <td>34.000000</td>\n",
       "      <td>5.000000</td>\n",
       "      <td>0.020000</td>\n",
       "      <td>0.440000</td>\n",
       "      <td>0.060000</td>\n",
       "      <td>0.850000</td>\n",
       "      <td>0.070000</td>\n",
       "      <td>0.040000</td>\n",
       "      <td>0.400000</td>\n",
       "      <td>0.480000</td>\n",
       "      <td>...</td>\n",
       "      <td>0.130000</td>\n",
       "      <td>0.630000</td>\n",
       "      <td>0.540000</td>\n",
       "      <td>0.670000</td>\n",
       "      <td>0.700000</td>\n",
       "      <td>0.040000</td>\n",
       "      <td>0.170000</td>\n",
       "      <td>0.070000</td>\n",
       "      <td>0.000000</td>\n",
       "      <td>0.150000</td>\n",
       "    </tr>\n",
       "    <tr>\n",
       "      <th>75%</th>\n",
       "      <td>42.000000</td>\n",
       "      <td>8.000000</td>\n",
       "      <td>0.050000</td>\n",
       "      <td>0.540000</td>\n",
       "      <td>0.230000</td>\n",
       "      <td>0.940000</td>\n",
       "      <td>0.170000</td>\n",
       "      <td>0.160000</td>\n",
       "      <td>0.470000</td>\n",
       "      <td>0.540000</td>\n",
       "      <td>...</td>\n",
       "      <td>0.280000</td>\n",
       "      <td>0.777500</td>\n",
       "      <td>0.660000</td>\n",
       "      <td>0.770000</td>\n",
       "      <td>0.790000</td>\n",
       "      <td>0.070000</td>\n",
       "      <td>0.280000</td>\n",
       "      <td>0.190000</td>\n",
       "      <td>0.000000</td>\n",
       "      <td>0.330000</td>\n",
       "    </tr>\n",
       "    <tr>\n",
       "      <th>max</th>\n",
       "      <td>56.000000</td>\n",
       "      <td>10.000000</td>\n",
       "      <td>1.000000</td>\n",
       "      <td>1.000000</td>\n",
       "      <td>1.000000</td>\n",
       "      <td>1.000000</td>\n",
       "      <td>1.000000</td>\n",
       "      <td>1.000000</td>\n",
       "      <td>1.000000</td>\n",
       "      <td>1.000000</td>\n",
       "      <td>...</td>\n",
       "      <td>1.000000</td>\n",
       "      <td>1.000000</td>\n",
       "      <td>1.000000</td>\n",
       "      <td>1.000000</td>\n",
       "      <td>1.000000</td>\n",
       "      <td>1.000000</td>\n",
       "      <td>1.000000</td>\n",
       "      <td>1.000000</td>\n",
       "      <td>1.000000</td>\n",
       "      <td>1.000000</td>\n",
       "    </tr>\n",
       "  </tbody>\n",
       "</table>\n",
       "<p>8 rows × 102 columns</p>\n",
       "</div>"
      ],
      "text/plain": [
       "             state         fold   population  householdsize  racepctblack  \\\n",
       "count  1994.000000  1994.000000  1994.000000    1994.000000   1994.000000   \n",
       "mean     28.683551     5.493982     0.057593       0.463395      0.179629   \n",
       "std      16.397553     2.873694     0.126906       0.163717      0.253442   \n",
       "min       1.000000     1.000000     0.000000       0.000000      0.000000   \n",
       "25%      12.000000     3.000000     0.010000       0.350000      0.020000   \n",
       "50%      34.000000     5.000000     0.020000       0.440000      0.060000   \n",
       "75%      42.000000     8.000000     0.050000       0.540000      0.230000   \n",
       "max      56.000000    10.000000     1.000000       1.000000      1.000000   \n",
       "\n",
       "       racePctWhite  racePctAsian  racePctHisp  agePct12t21  agePct12t29  ...  \\\n",
       "count   1994.000000   1994.000000  1994.000000  1994.000000  1994.000000  ...   \n",
       "mean       0.753716      0.153681     0.144022     0.424218     0.493867  ...   \n",
       "std        0.244039      0.208877     0.232492     0.155196     0.143564  ...   \n",
       "min        0.000000      0.000000     0.000000     0.000000     0.000000  ...   \n",
       "25%        0.630000      0.040000     0.010000     0.340000     0.410000  ...   \n",
       "50%        0.850000      0.070000     0.040000     0.400000     0.480000  ...   \n",
       "75%        0.940000      0.170000     0.160000     0.470000     0.540000  ...   \n",
       "max        1.000000      1.000000     1.000000     1.000000     1.000000  ...   \n",
       "\n",
       "       PctForeignBorn  PctBornSameState  PctSameHouse85  PctSameCity85  \\\n",
       "count     1994.000000       1994.000000     1994.000000    1994.000000   \n",
       "mean         0.215552          0.608892        0.535050       0.626424   \n",
       "std          0.231134          0.204329        0.181352       0.200521   \n",
       "min          0.000000          0.000000        0.000000       0.000000   \n",
       "25%          0.060000          0.470000        0.420000       0.520000   \n",
       "50%          0.130000          0.630000        0.540000       0.670000   \n",
       "75%          0.280000          0.777500        0.660000       0.770000   \n",
       "max          1.000000          1.000000        1.000000       1.000000   \n",
       "\n",
       "       PctSameState85     LandArea      PopDens  PctUsePubTrans  \\\n",
       "count     1994.000000  1994.000000  1994.000000     1994.000000   \n",
       "mean         0.651530     0.065231     0.232854        0.161685   \n",
       "std          0.198221     0.109459     0.203092        0.229055   \n",
       "min          0.000000     0.000000     0.000000        0.000000   \n",
       "25%          0.560000     0.020000     0.100000        0.020000   \n",
       "50%          0.700000     0.040000     0.170000        0.070000   \n",
       "75%          0.790000     0.070000     0.280000        0.190000   \n",
       "max          1.000000     1.000000     1.000000        1.000000   \n",
       "\n",
       "       LemasPctOfficDrugUn  ViolentCrimesPerPop  \n",
       "count          1994.000000          1994.000000  \n",
       "mean              0.094052             0.237979  \n",
       "std               0.240328             0.232985  \n",
       "min               0.000000             0.000000  \n",
       "25%               0.000000             0.070000  \n",
       "50%               0.000000             0.150000  \n",
       "75%               0.000000             0.330000  \n",
       "max               1.000000             1.000000  \n",
       "\n",
       "[8 rows x 102 columns]"
      ]
     },
     "execution_count": 20,
     "metadata": {},
     "output_type": "execute_result"
    }
   ],
   "source": [
    "df.describe() # metoda dostarczająca statystyczne informacje o danych w kolumnach"
   ]
  },
  {
   "cell_type": "markdown",
   "metadata": {},
   "source": [
    "## Sprawdzanie danych pod kątem wartości pustych"
   ]
  },
  {
   "cell_type": "code",
   "execution_count": 25,
   "metadata": {},
   "outputs": [],
   "source": [
    "df = input_data.replace(to_replace='?', value=np.nan) # podmiana pustych wartości"
   ]
  },
  {
   "cell_type": "code",
   "execution_count": 46,
   "metadata": {},
   "outputs": [],
   "source": [
    "empty_columns = df.columns[df.isna().any()].tolist() # kolumny zawierające nieznane wartości\n",
    "# print(empty_columns)"
   ]
  },
  {
   "cell_type": "code",
   "execution_count": 29,
   "metadata": {},
   "outputs": [
    {
     "data": {
      "text/plain": [
       "25"
      ]
     },
     "execution_count": 29,
     "metadata": {},
     "output_type": "execute_result"
    }
   ],
   "source": [
    "len(empty_columns) # liczba kolumn zawierających nieznane wartości"
   ]
  },
  {
   "cell_type": "code",
   "execution_count": 71,
   "metadata": {},
   "outputs": [],
   "source": [
    "df_notnull = df.drop(empty_columns, axis=1) # usunięcie kolumn zawierających nieznane wartości"
   ]
  },
  {
   "cell_type": "code",
   "execution_count": 47,
   "metadata": {},
   "outputs": [
    {
     "data": {
      "text/plain": [
       "county                  1174\n",
       "community               1177\n",
       "OtherPerCap                1\n",
       "LemasSwornFT            1675\n",
       "LemasSwFTPerPop         1675\n",
       "LemasSwFTFieldOps       1675\n",
       "LemasSwFTFieldPerPop    1675\n",
       "LemasTotalReq           1675\n",
       "LemasTotReqPerPop       1675\n",
       "PolicReqPerOffic        1675\n",
       "PolicPerPop             1675\n",
       "RacialMatchCommPol      1675\n",
       "PctPolicWhite           1675\n",
       "PctPolicBlack           1675\n",
       "PctPolicHisp            1675\n",
       "PctPolicAsian           1675\n",
       "PctPolicMinor           1675\n",
       "OfficAssgnDrugUnits     1675\n",
       "NumKindsDrugsSeiz       1675\n",
       "PolicAveOTWorked        1675\n",
       "PolicCars               1675\n",
       "PolicOperBudg           1675\n",
       "LemasPctPolicOnPatr     1675\n",
       "LemasGangUnitDeploy     1675\n",
       "PolicBudgPerPop         1675\n",
       "dtype: int64"
      ]
     },
     "execution_count": 47,
     "metadata": {},
     "output_type": "execute_result"
    }
   ],
   "source": [
    "pd.isnull(df[empty_columns]).sum() # liczba wierszy zawierające brakujace wartosci"
   ]
  },
  {
   "cell_type": "code",
   "execution_count": 57,
   "metadata": {},
   "outputs": [
    {
     "data": {
      "text/plain": [
       "1871"
      ]
     },
     "execution_count": 57,
     "metadata": {},
     "output_type": "execute_result"
    }
   ],
   "source": [
    "sum([True for idx,row in df.iterrows() if any(row.isnull())]) # zliczanie wierszy, które mają brakujące wartości"
   ]
  },
  {
   "cell_type": "code",
   "execution_count": 84,
   "metadata": {},
   "outputs": [
    {
     "data": {
      "text/plain": [
       "39202"
      ]
     },
     "execution_count": 84,
     "metadata": {},
     "output_type": "execute_result"
    }
   ],
   "source": [
    "sum(df.isnull().values.ravel()) # liczenie komórek brakujących wartości"
   ]
  },
  {
   "cell_type": "markdown",
   "metadata": {},
   "source": [
    "## Sprawdzanie typów danych w zbiorze"
   ]
  },
  {
   "cell_type": "code",
   "execution_count": 90,
   "metadata": {},
   "outputs": [
    {
     "data": {
      "text/plain": [
       "state                     int64\n",
       "county                   object\n",
       "community                object\n",
       "communityname            object\n",
       "fold                      int64\n",
       "population              float64\n",
       "householdsize           float64\n",
       "racepctblack            float64\n",
       "racePctWhite            float64\n",
       "racePctAsian            float64\n",
       "racePctHisp             float64\n",
       "agePct12t21             float64\n",
       "agePct12t29             float64\n",
       "agePct16t24             float64\n",
       "agePct65up              float64\n",
       "numbUrban               float64\n",
       "pctUrban                float64\n",
       "medIncome               float64\n",
       "pctWWage                float64\n",
       "pctWFarmSelf            float64\n",
       "pctWInvInc              float64\n",
       "pctWSocSec              float64\n",
       "pctWPubAsst             float64\n",
       "pctWRetire              float64\n",
       "medFamInc               float64\n",
       "perCapInc               float64\n",
       "whitePerCap             float64\n",
       "blackPerCap             float64\n",
       "indianPerCap            float64\n",
       "AsianPerCap             float64\n",
       "                         ...   \n",
       "PctSameHouse85          float64\n",
       "PctSameCity85           float64\n",
       "PctSameState85          float64\n",
       "LemasSwornFT             object\n",
       "LemasSwFTPerPop          object\n",
       "LemasSwFTFieldOps        object\n",
       "LemasSwFTFieldPerPop     object\n",
       "LemasTotalReq            object\n",
       "LemasTotReqPerPop        object\n",
       "PolicReqPerOffic         object\n",
       "PolicPerPop              object\n",
       "RacialMatchCommPol       object\n",
       "PctPolicWhite            object\n",
       "PctPolicBlack            object\n",
       "PctPolicHisp             object\n",
       "PctPolicAsian            object\n",
       "PctPolicMinor            object\n",
       "OfficAssgnDrugUnits      object\n",
       "NumKindsDrugsSeiz        object\n",
       "PolicAveOTWorked         object\n",
       "LandArea                float64\n",
       "PopDens                 float64\n",
       "PctUsePubTrans          float64\n",
       "PolicCars                object\n",
       "PolicOperBudg            object\n",
       "LemasPctPolicOnPatr      object\n",
       "LemasGangUnitDeploy      object\n",
       "LemasPctOfficDrugUn     float64\n",
       "PolicBudgPerPop          object\n",
       "ViolentCrimesPerPop     float64\n",
       "Length: 128, dtype: object"
      ]
     },
     "execution_count": 90,
     "metadata": {},
     "output_type": "execute_result"
    }
   ],
   "source": [
    "df.dtypes \n",
    "# df.select_dtypes(exclude=[np.number])\n",
    "# list(df.select_dtypes(exclude=[np.number]).columns) "
   ]
  },
  {
   "cell_type": "code",
   "execution_count": null,
   "metadata": {},
   "outputs": [],
   "source": []
  },
  {
   "cell_type": "code",
   "execution_count": null,
   "metadata": {},
   "outputs": [],
   "source": []
  }
 ],
 "metadata": {
  "kernelspec": {
   "display_name": "Python 2",
   "language": "python",
   "name": "python2"
  },
  "language_info": {
   "codemirror_mode": {
    "name": "ipython",
    "version": 2
   },
   "file_extension": ".py",
   "mimetype": "text/x-python",
   "name": "python",
   "nbconvert_exporter": "python",
   "pygments_lexer": "ipython2",
   "version": "2.7.16"
  }
 },
 "nbformat": 4,
 "nbformat_minor": 2
}
